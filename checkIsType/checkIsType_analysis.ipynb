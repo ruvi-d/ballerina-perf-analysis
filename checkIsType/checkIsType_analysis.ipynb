{
 "cells": [
  {
   "cell_type": "markdown",
   "metadata": {},
   "source": [
    "# Intro\n",
    "\n",
    "This notebook analyses the `checkIsType` method calls for the `http-ballerina-tests` test suite. The Types that are passed and the time taken to execute have been logged to CSV and the analysis can be found here. In order to measure the execution time, the `checkIsType` function was modified to run 10,000 times for every call. The hope was that this would reduce the noise associated with measuring small durations. However; we still notices that multiple calls of the same type checks can be differ by an order of maginitude. Thus, execution times of the same order of magnitude will be considered to be comparable."
   ]
  },
  {
   "cell_type": "markdown",
   "metadata": {},
   "source": [
    "# Data Processing"
   ]
  },
  {
   "cell_type": "code",
   "execution_count": 45,
   "metadata": {},
   "outputs": [],
   "source": [
    "import csv\n",
    "from tabulate import tabulate"
   ]
  },
  {
   "cell_type": "code",
   "execution_count": 46,
   "metadata": {},
   "outputs": [],
   "source": [
    "def get_key(vals: list)-> str:\n",
    "    return vals[0]+\" / \"+vals[1]\n",
    "\n",
    "# Format and print float values\n",
    "def print_f(dict, key: str)-> str:\n",
    "    return f\"{dict[key]:,.2f}\"\n",
    "\n",
    "# Format and print integer values\n",
    "def print_i(dict, key: str)-> str:\n",
    "    return f\"{dict[key]:,d}\""
   ]
  },
  {
   "cell_type": "code",
   "execution_count": 47,
   "metadata": {},
   "outputs": [],
   "source": [
    "count = 0\n",
    "dict_count = {}\n",
    "dict_total_time = {}\n",
    "dict_time = {}\n",
    "\n",
    "with open('./test-10000-full.csv', newline='') as f:\n",
    "    reader = csv.reader(f)\n",
    "    for row in reader:\n",
    "        count += 1\n",
    "        key = get_key(row[:2])\n",
    "        if key in dict_count:\n",
    "            dict_count[key] = dict_count[key] + 1\n",
    "            dict_total_time[key] = dict_total_time[key] + int(row[2])\n",
    "        else:\n",
    "            dict_count[key] = 1\n",
    "            dict_total_time[key] = int(row[2])\n",
    "\n",
    "for key in dict_count:\n",
    "    dict_time[key] = int(dict_total_time[key] / dict_count[key])\n",
    "\n",
    "dict_count_sorted = sorted(dict_count.items(), key=lambda item: item[1],reverse=True)\n",
    "dict_total_time_sorted = sorted(dict_total_time.items(), key=lambda item: item[1],reverse=True)\n",
    "dict_time_sorted = sorted(dict_time.items(), key=lambda item: item[1],reverse=True)"
   ]
  },
  {
   "cell_type": "code",
   "execution_count": 48,
   "metadata": {
    "scrolled": true
   },
   "outputs": [
    {
     "name": "stdout",
     "output_type": "stream",
     "text": [
      "Numeber of entires:  32951\n",
      "Numeber of unique entires:  119\n"
     ]
    }
   ],
   "source": [
    "print(\"Numeber of entires: \",count)\n",
    "print(\"Numeber of unique entires: \",len(dict_count))"
   ]
  },
  {
   "cell_type": "markdown",
   "metadata": {},
   "source": [
    "# Visualization"
   ]
  },
  {
   "cell_type": "code",
   "execution_count": 49,
   "metadata": {},
   "outputs": [],
   "source": [
    "show_amount = 30"
   ]
  },
  {
   "cell_type": "code",
   "execution_count": 50,
   "metadata": {
    "scrolled": false
   },
   "outputs": [
    {
     "name": "stdout",
     "output_type": "stream",
     "text": [
      "Top 30 common:\n",
      "| Type                                                |   Number of occurrences |\n",
      "|-----------------------------------------------------+-------------------------|\n",
      "| int / int                                           |                    3582 |\n",
      "| string / string                                     |                    2809 |\n",
      "| boolean / boolean                                   |                    2653 |\n",
      "| map / any                                           |                    1252 |\n",
      "| float / float                                       |                    1217 |\n",
      "| string / $anonType$_148|$anonType$_149              |                    1021 |\n",
      "| http:ClientConfiguration / http:ClientConfiguration |                     985 |\n",
      "| string / $anonType$_148                             |                     881 |\n",
      "| http:CacheConfig / http:CacheConfig                 |                     830 |\n",
      "| () / http:ClientSecureSocket|()                     |                     751 |\n",
      "| string / $anonType$_65                              |                     732 |\n",
      "| string / $anonType$_65|$anonType$_66|$anonType$_67  |                     732 |\n",
      "| http:ClientHttp2Settings / http:ClientHttp2Settings |                     701 |\n",
      "| boolean / any                                       |                     696 |\n",
      "| http:ClientHttp1Settings / http:ClientHttp1Settings |                     690 |\n",
      "| () / http:FollowRedirects|()                        |                     690 |\n",
      "| () / http:PoolConfiguration|()                      |                     690 |\n",
      "| string / $anonType$_46|$anonType$_47|$anonType$_48  |                     690 |\n",
      "| () / http:OutboundAuthConfig|()                     |                     690 |\n",
      "| () / http:CircuitBreakerConfig|()                   |                     690 |\n",
      "| () / http:RetryConfig|()                            |                     690 |\n",
      "| string / $anonType$_43                              |                     601 |\n",
      "| string / $anonType$_43|$anonType$_44|$anonType$_45  |                     601 |\n",
      "| () / http:ProxyConfig|()                            |                     601 |\n",
      "| string / $anonType$_46                              |                     601 |\n",
      "| () / http:CookieConfig|()                           |                     601 |\n",
      "| $$returnType$$ / lang.array:$anonType$_5|()         |                     396 |\n",
      "| handle / handle                                     |                     281 |\n",
      "| () / http:CookieConfig                              |                     280 |\n",
      "| http:HttpClient / http:HttpClient                   |                     280 |\n"
     ]
    }
   ],
   "source": [
    "print(\"Top %s common:\"%show_amount)\n",
    "print(tabulate(dict_count_sorted[:show_amount], headers=['Type', 'Number of occurrences'], tablefmt='orgtbl'))"
   ]
  },
  {
   "cell_type": "markdown",
   "metadata": {},
   "source": [
    "## observations \n",
    "* Primitive type comparisions are very commom\n",
    "* Null checking of Object types are common\n",
    "* Object type checking is common"
   ]
  },
  {
   "cell_type": "code",
   "execution_count": 51,
   "metadata": {
    "scrolled": true
   },
   "outputs": [
    {
     "name": "stdout",
     "output_type": "stream",
     "text": [
      "Top 30 cumulative time:\n",
      "| Type                                                   |   Total time (ns) |\n",
      "|--------------------------------------------------------+-------------------|\n",
      "| http:HttpCachingClient / http:HttpClient               |     3860426963447 |\n",
      "| http:CircuitBreakerClient / http:HttpClient            |      324655560331 |\n",
      "| http:RedirectClient / http:HttpClient                  |      167709948957 |\n",
      "| cache:LruEvictionPolicy / cache:AbstractEvictionPolicy |       12264443190 |\n",
      "| string / $anonType$_148|$anonType$_149                 |        7465699204 |\n",
      "| string / $anonType$_65|$anonType$_66|$anonType$_67     |        6300899780 |\n",
      "| string / $anonType$_46|$anonType$_47|$anonType$_48     |        5904880226 |\n",
      "| string / $anonType$_43|$anonType$_44|$anonType$_45     |        5134332369 |\n",
      "| $$returnType$$ / lang.array:$anonType$_5|()            |        3454401319 |\n",
      "| map / any                                              |        2645499423 |\n",
      "| string / $anonType$_148                                |        2588995072 |\n",
      "| () / http:ClientSecureSocket|()                        |        2555806873 |\n",
      "| boolean / boolean                                      |        2427193481 |\n",
      "| lang.array:ArrayIterator / lang.array:$anonType$_1 { \tfunction next() returns (lang.array:$anonType$_0|()) }                                                        |        2353116533 |\n",
      "| () / http:FollowRedirects|()                           |        2341670413 |\n",
      "| () / http:PoolConfiguration|()                         |        2329617669 |\n",
      "| () / http:OutboundAuthConfig|()                        |        2326497139 |\n",
      "| () / http:CircuitBreakerConfig|()                      |        2326101642 |\n",
      "| () / http:RetryConfig|()                               |        2306032988 |\n",
      "| string / $anonType$_65                                 |        2251936275 |\n",
      "| () / http:ProxyConfig|()                               |        2017237916 |\n",
      "| () / http:CookieConfig|()                              |        2004572320 |\n",
      "| int / int                                              |        1779646617 |\n",
      "| string / $anonType$_46                                 |        1769636604 |\n",
      "| string / $anonType$_43                                 |        1766132274 |\n",
      "| $$returnType$$ / lang.array:$anonType$_0|()            |        1689191047 |\n",
      "| $$returnType$$ / lang.array:$anonType$_0               |        1513793830 |\n",
      "| string / string                                        |        1441557416 |\n",
      "| boolean / any                                          |        1370463448 |\n",
      "| http:ClientConfiguration / http:ClientConfiguration    |        1321471360 |\n"
     ]
    }
   ],
   "source": [
    "print(\"Top %s cumulative time:\"%show_amount)\n",
    "print(tabulate(dict_total_time_sorted[:show_amount], headers=['Type', 'Total time (ns)'], tablefmt='orgtbl'))"
   ]
  },
  {
   "cell_type": "code",
   "execution_count": 59,
   "metadata": {},
   "outputs": [
    {
     "data": {
      "text/plain": [
       "'162'"
      ]
     },
     "execution_count": 59,
     "metadata": {},
     "output_type": "execute_result"
    }
   ],
   "source": [
    "print_i(dict_count,'http:HttpCachingClient / http:HttpClient')"
   ]
  },
  {
   "cell_type": "markdown",
   "metadata": {},
   "source": [
    "## Observations\n",
    "* Type checking of object types that are similar is taking up (`http:HttpCachingClient / http:HttpClient` `http:CircuitBreakerClient / http:HttpClient` and `http:RedirectClient / http:HttpClient`) most of the processing time\n",
    "* This makes sense because the `checkIsType` logic has been written to fail fast for dissimilar types. Object types that are similar have to go through the longest execution paths."
   ]
  },
  {
   "cell_type": "code",
   "execution_count": 52,
   "metadata": {
    "scrolled": false
   },
   "outputs": [
    {
     "name": "stdout",
     "output_type": "stream",
     "text": [
      "Top 30 time:\n",
      "| Type                                                    |   Single execution time (ns) |\n",
      "|---------------------------------------------------------+------------------------------|\n",
      "| http:HttpCachingClient / http:HttpClient                |                  23829796070 |\n",
      "| http:CircuitBreakerClient / http:HttpClient             |                  23189682880 |\n",
      "| http:RedirectClient / http:HttpClient                   |                  20963743619 |\n",
      "| error / error|()                                        |                     73928241 |\n",
      "| cache:LruEvictionPolicy / cache:AbstractEvictionPolicy  |                     43801582 |\n",
      "| lang.array:ArrayIterator / lang.array:$anonType$_1 { \tfunction next() returns (lang.array:$anonType$_0|()) }                                                         |                     36767445 |\n",
      "| error / error                                           |                     27093571 |\n",
      "| http:LoadBalancerRoundRobinRule / http:LoadBalancerRule |                     18603746 |\n",
      "| string / $anonType$_21|$anonType$_22|$anonType$_23      |                     15475104 |\n",
      "| int[] / (any|error)[]                                   |                      9140820 |\n",
      "| $$returnType$$ / lang.array:$anonType$_5|()             |                      8723235 |\n",
      "| string / $anonType$_65|$anonType$_66|$anonType$_67      |                      8607786 |\n",
      "| string / $anonType$_46|$anonType$_47|$anonType$_48      |                      8557797 |\n",
      "| string / $anonType$_43|$anonType$_44|$anonType$_45      |                      8542982 |\n",
      "| $$returnType$$ / lang.array:$anonType$_0|()             |                      8531267 |\n",
      "| $$returnType$$ / lang.array:$anonType$_0                |                      7645423 |\n",
      "| string / $anonType$_148|$anonType$_149                  |                      7312144 |\n",
      "| float[] / float[]                                       |                      6723128 |\n",
      "| crypto:TrustStore / crypto:TrustStore|()                |                      5562759 |\n",
      "| http:CircuitBreakerClient / error                       |                      5490868 |\n",
      "| () / string|()                                          |                      5366522 |\n",
      "| http:TargetService[] / (any|error)[]                    |                      5250280 |\n",
      "| () / crypto:TrustStore|()                               |                      4325721 |\n",
      "| (http:Client|())[] / error                              |                      4195843 |\n",
      "| () / string                                             |                      4117037 |\n",
      "| () / error|()                                           |                      3969269 |\n",
      "| string / string|()                                      |                      3951637 |\n",
      "| () / http:CookieStore|()                                |                      3896297 |\n",
      "| () / int|()                                             |                      3631715 |\n",
      "| () / crypto:KeyStore|()                                 |                      3621972 |\n"
     ]
    }
   ],
   "source": [
    "print(\"Top %s time:\"%show_amount)\n",
    "print(tabulate(dict_time_sorted[:show_amount], headers=['Type', 'Single execution time (ns)'], tablefmt='orgtbl'))"
   ]
  },
  {
   "cell_type": "code",
   "execution_count": 60,
   "metadata": {
    "scrolled": true
   },
   "outputs": [
    {
     "data": {
      "text/plain": [
       "'2'"
      ]
     },
     "execution_count": 60,
     "metadata": {},
     "output_type": "execute_result"
    }
   ],
   "source": [
    "print_i(dict_count,'error / error')"
   ]
  },
  {
   "cell_type": "code",
   "execution_count": 57,
   "metadata": {
    "scrolled": false
   },
   "outputs": [
    {
     "data": {
      "text/plain": [
       "[('() / mime:MediaType|()', 1062664),\n",
       " ('() / http:ResponseCacheControl|()', 1053566),\n",
       " ('string / json', 1043614),\n",
       " ('boolean / boolean', 914886),\n",
       " ('string / any|error', 892767),\n",
       " ('mime:Entity / mime:Entity', 767544),\n",
       " ('string / string', 513192),\n",
       " ('() / ()', 512570),\n",
       " ('float / float', 500185),\n",
       " ('int / int', 496830)]"
      ]
     },
     "execution_count": 57,
     "metadata": {},
     "output_type": "execute_result"
    }
   ],
   "source": [
    "dict_time_sorted[-10:]"
   ]
  },
  {
   "cell_type": "markdown",
   "metadata": {},
   "source": [
    "## Observations\n",
    "* Previous observation with the similar object types can be observed here too\n",
    "* The comparision of similar primitives execute the fastest\n",
    "* `error / error` time appears to be an annomaly. It follows the same execution path as `init / int` and should have produced similar execution times."
   ]
  },
  {
   "cell_type": "markdown",
   "metadata": {},
   "source": [
    "# Conclusions and recommendations"
   ]
  },
  {
   "cell_type": "markdown",
   "metadata": {},
   "source": [
    "* It is apparent that the comparsion of similar type Objects contribute the most to the execution time of a \"quasi real world\" workload such as the aforementioned http-test workload\n",
    "* Comparision of similar primitive types is not an issue at the moment\n",
    "* An relatively easy fix for the Object type comparision would be to cache the results of the Object type checks. This has the potential to give a significant performance boost to real world workloads."
   ]
  }
 ],
 "metadata": {
  "kernelspec": {
   "display_name": "Python 3",
   "language": "python",
   "name": "python3"
  },
  "language_info": {
   "codemirror_mode": {
    "name": "ipython",
    "version": 3
   },
   "file_extension": ".py",
   "mimetype": "text/x-python",
   "name": "python",
   "nbconvert_exporter": "python",
   "pygments_lexer": "ipython3",
   "version": "3.8.5"
  }
 },
 "nbformat": 4,
 "nbformat_minor": 4
}
